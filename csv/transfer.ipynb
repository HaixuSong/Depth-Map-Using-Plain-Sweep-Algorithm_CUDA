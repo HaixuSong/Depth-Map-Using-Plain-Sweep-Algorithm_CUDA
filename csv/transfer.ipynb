{
 "cells": [
  {
   "cell_type": "code",
   "execution_count": 2,
   "metadata": {},
   "outputs": [],
   "source": [
    "import numpy as np\n",
    "import matplotlib.image as mpimg\n",
    "import os\n",
    "\n",
    "sourcePath = \"../data\""
   ]
  },
  {
   "cell_type": "code",
   "execution_count": 3,
   "metadata": {},
   "outputs": [
    {
     "data": {
      "text/plain": [
       "['0000.png',\n",
       " '0001.png',\n",
       " '0002.png',\n",
       " '0003.png',\n",
       " '0004.png',\n",
       " '0005.png',\n",
       " '0006.png',\n",
       " '0007.png',\n",
       " '0008.png',\n",
       " '0009.png',\n",
       " '0010.png']"
      ]
     },
     "execution_count": 3,
     "metadata": {},
     "output_type": "execute_result"
    }
   ],
   "source": [
    "pngFiles = [f for f in os.listdir(sourcePath) if f.endswith('.png')]\n",
    "pngFiles"
   ]
  },
  {
   "cell_type": "code",
   "execution_count": 13,
   "metadata": {},
   "outputs": [],
   "source": [
    "for fileName in pngFiles:\n",
    "    pngData = mpimg.imread(os.path.join(sourcePath, fileName))\n",
    "    pngShape = pngData.shape\n",
    "    pngReshaped = pngData.reshape((pngShape[0] * pngShape[1], pngShape[2]))\n",
    "    np.savetxt(fileName.split('.')[0] + '.csv', pngReshaped, delimiter=',')"
   ]
  },
  {
   "cell_type": "code",
   "execution_count": 5,
   "metadata": {},
   "outputs": [],
   "source": [
    "for fileName in pngFiles:\n",
    "    camFile = os.path.join(sourcePath, fileName + '.camera')\n",
    "    projFile = os.path.join(sourcePath, fileName + '.P')\n",
    "    output = open(fileName + '.iecp' , \"w\")\n",
    "    source = open(camFile, \"r\")\n",
    "    source2 = open(projFile, \"r\")\n",
    "    ep = []\n",
    "    for i, line in enumerate(source):\n",
    "        # write ip\n",
    "        if 0 <= i < 3: \n",
    "            output.write(line[:-2])\n",
    "            output.write(\" \")\n",
    "            continue\n",
    "            \n",
    "        # write a new line\n",
    "        if i == 3:\n",
    "            output.write(\"\\n\")\n",
    "            continue\n",
    "            \n",
    "        # store ep\n",
    "        if 3 < i <=6:\n",
    "            ep.append(line[:-1].split())\n",
    "            continue\n",
    "            \n",
    "        # write cp and resolution\n",
    "        if 7 <= i <= 8:\n",
    "            output.write(line)\n",
    "            continue\n",
    "            \n",
    "        if i > 8: break\n",
    "            \n",
    "    # traverse ep\n",
    "    for i in range(len(ep)):\n",
    "        for j in range(i):\n",
    "            ep[i][j], ep[j][i] = ep[j][i], ep[i][j]\n",
    "    \n",
    "    # write ep\n",
    "    for i in ep:\n",
    "        for j in i:\n",
    "            output.write(j)\n",
    "            output.write(\" \")\n",
    "        \n",
    "    output.write(\"\\n\")\n",
    "    # write projMatrix\n",
    "    for i, line in enumerate(source2):\n",
    "        output.write(line[:-1])\n",
    "        output.write(\" \")\n",
    "\n",
    "    output.close()\n",
    "    source.close()"
   ]
  },
  {
   "cell_type": "code",
   "execution_count": null,
   "metadata": {},
   "outputs": [],
   "source": []
  }
 ],
 "metadata": {
  "kernelspec": {
   "display_name": "Python 3",
   "language": "python",
   "name": "python3"
  },
  "language_info": {
   "codemirror_mode": {
    "name": "ipython",
    "version": 3
   },
   "file_extension": ".py",
   "mimetype": "text/x-python",
   "name": "python",
   "nbconvert_exporter": "python",
   "pygments_lexer": "ipython3",
   "version": "3.7.7"
  }
 },
 "nbformat": 4,
 "nbformat_minor": 4
}
